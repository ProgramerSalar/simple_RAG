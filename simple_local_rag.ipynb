{
 "cells": [
  {
   "cell_type": "code",
   "execution_count": 40,
   "metadata": {},
   "outputs": [
    {
     "name": "stdout",
     "output_type": "stream",
     "text": [
      "file F:\\Large_Language_model\\Human-Nutrition.pdf exists\n"
     ]
    }
   ],
   "source": [
    "import os \n",
    "import requests\n",
    "\n",
    "\n",
    "pdf_path = \"F:\\Large_Language_model\\Human-Nutrition.pdf\"\n",
    "\n",
    "# download Pdf\n",
    "if not os.path.exists(pdf_path):\n",
    "    # print(\"hello world\")\n",
    "\n",
    "    url = \"https://pressbooks.oer.hawaii.edu/humannutrition2/open/download?type=pdf\"\n",
    "    # print(url)\n",
    "\n",
    "    # the local filename to save the download file \n",
    "    filename = pdf_path\n",
    "\n",
    "    # send a GET request to the url \n",
    "    response = requests.get(url)\n",
    "\n",
    "    # check if the request was successfull\n",
    "    if response.status_code == 200:\n",
    "\n",
    "        #open the file ans save it \n",
    "        with open(filename, \"wb\") as file:\n",
    "            file.write(response.content)\n",
    "        print(f\"[INFO] The file has been download and saved as {filename}\")\n",
    "\n",
    "    else:\n",
    "        print(f\"[INFO] Faild to download the file. Status code: {response.status_code}\")\n",
    "\n",
    "else:\n",
    "    print(f\"file {pdf_path} exists\")"
   ]
  },
  {
   "cell_type": "markdown",
   "metadata": {},
   "source": [
    "we have got a PDf, let's open it!"
   ]
  },
  {
   "cell_type": "code",
   "execution_count": null,
   "metadata": {},
   "outputs": [],
   "source": []
  },
  {
   "cell_type": "code",
   "execution_count": null,
   "metadata": {},
   "outputs": [],
   "source": []
  }
 ],
 "metadata": {
  "kernelspec": {
   "display_name": "Python 3",
   "language": "python",
   "name": "python3"
  },
  "language_info": {
   "codemirror_mode": {
    "name": "ipython",
    "version": 3
   },
   "file_extension": ".py",
   "mimetype": "text/x-python",
   "name": "python",
   "nbconvert_exporter": "python",
   "pygments_lexer": "ipython3",
   "version": "3.11.7"
  }
 },
 "nbformat": 4,
 "nbformat_minor": 2
}
